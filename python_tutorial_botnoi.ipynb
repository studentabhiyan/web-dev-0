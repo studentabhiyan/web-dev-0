{
  "nbformat": 4,
  "nbformat_minor": 0,
  "metadata": {
    "colab": {
      "name": "python_tutorial_botnoi.ipynb",
      "provenance": [],
      "collapsed_sections": []
    },
    "kernelspec": {
      "name": "python3",
      "display_name": "Python 3"
    },
    "language_info": {
      "name": "python"
    }
  },
  "cells": [
    {
      "cell_type": "markdown",
      "metadata": {
        "id": "ZGumNdBZWxUW"
      },
      "source": [
        "# **<font color=\"lightgreen\">Python Tutorial-TH </font>**\n",
        "\n",
        "\n"
      ]
    },
    {
      "cell_type": "markdown",
      "metadata": {
        "id": "Rk_tzDnUWxVu"
      },
      "source": [
        "## **Python Intro**"
      ]
    },
    {
      "cell_type": "markdown",
      "metadata": {
        "id": "l7SaV_ppXtPc"
      },
      "source": [
        "### ไพทอนคืออะไร? \n",
        "\n",
        "Python คือภาษาโปรแกรมยอดนิยม ถูกสร้างโดย Guido van Rossum และเปิดตัวในปี ค.ศ. 1991.\n",
        "\n",
        "Python ใช้สำหรับ:\n",
        "\n",
        "\n",
        "*   Data science\n",
        "*   Web development (Django)\n",
        "*   Machine learning\n",
        "*   Data analytics\n",
        "*   Data visualization\n",
        "\n",
        "### ทำไมต้องไพทอน?\n",
        "\n",
        "* Python สามารถทำงานบนแพลตฟอร์มต่างๆได้ ( เช่น Windows, Mac, Linux, Raspberry Pi เป็นต้น)\n",
        "* Python หลักการเขียนไวยากรณ์ มีลักษณะคล้ายกับภาษาอังกฤษ\n",
        "* Python มีไวยากรณ์ที่ช่วยให้นักพัฒนาสามารถเขียนโปรแกรม ที่มีจำนวนบรรทัดน้อยกว่าภาษาโปรแกรมอื่นๆ\n",
        "* Python สามารถเรียกใช้โค้ดคำสั่งในแพลตฟอร์มได้ โดยการพิมโค้ดคำสั่งลงไป ทำให้การสร้างต้นแบบ สามารถทำได้อย่างรวดเร็วมาก\n",
        "* Python สามารถปฏิบัติงานเป็นขั้นตอน วิธีเชิงวัตถุ หรือ วิธีการทำงาน\n",
        "\n",
        "\n",
        "### Python Syntax เทียบกับภาษาโปรแกรมอื่นๆ\n",
        "\n",
        "* Python ถูกออกแบบมาให้อ่านง่าย และมีความคล้ายคลึงบางอย่างกับภาษาอังกฤษโดยได้รับอิทธิพลมาจากคณิตศาสตร์\n",
        "* Python ใช้บรรทัดใหม่เพื่อทำให้คำสั่งสมบูรณ์ ตรงข้ามกับภาษาโปรแกรมอื่นๆ ที่มักใช้เครื่องหมายอัฒภาคหรือวงเล็บ\n",
        "* Python อาศัยการเยื้องโดยใช้ช่องว่างเพื่อกำหนดขอบเขต เช่น ขอบเขตของลูป ฟังก์ชัน และคลาส ภาษาโปรแกรมอื่น ๆ มักใช้วงเล็บปีกกาเพื่อจุดประสงค์นี้ \n",
        "\n",
        "\n",
        "\n",
        "\n",
        "\n",
        "\n",
        "\n",
        "\n",
        "\n",
        "\n",
        "\n",
        "\n",
        "\n",
        "\n",
        "\n",
        "\n"
      ]
    },
    {
      "cell_type": "code",
      "metadata": {
        "id": "A5z8OuCsZhBl",
        "colab": {
          "base_uri": "https://localhost:8080/"
        },
        "outputId": "d4b24df1-9e03-4aeb-d310-ce2f9251667a"
      },
      "source": [
        "#Let's write our first code for python\n",
        "\n",
        "print(\"Learning python\")\n"
      ],
      "execution_count": null,
      "outputs": [
        {
          "output_type": "stream",
          "text": [
            "Learning python\n"
          ],
          "name": "stdout"
        }
      ]
    },
    {
      "cell_type": "markdown",
      "metadata": {
        "id": "_kTHz4i450TC"
      },
      "source": [
        "## **Python comment**"
      ]
    },
    {
      "cell_type": "markdown",
      "metadata": {
        "id": "-SI7wBBq529j"
      },
      "source": [
        "ความคิดเห็นสามารถใช้เพื่ออธิบายโค้ด Python\n",
        "\n",
        "ความคิดเห็นสามารถใช้เพื่อทำให้โค้ดอ่านง่ายขึ้น\n",
        "\n",
        "ความคิดเห็นสามารถใช้เพื่อป้องกันการดำเนินการเมื่อทำการทดสอบโค้ด\n",
        "\n",
        "### ความคิดเห็นเริ่มต้นด้วย a และ Python จะละเว้น:"
      ]
    },
    {
      "cell_type": "code",
      "metadata": {
        "id": "AfjGkdO66bJC"
      },
      "source": [
        "#this how you comment."
      ],
      "execution_count": null,
      "outputs": []
    },
    {
      "cell_type": "markdown",
      "metadata": {
        "id": "DqlZDqPHROJu"
      },
      "source": [
        "### สามารถใส่ความคิดเห็นไว้ที่ท้ายบรรทัด และ Python จะละเว้นส่วนที่เหลือของบรรทัด:"
      ]
    },
    {
      "cell_type": "code",
      "metadata": {
        "colab": {
          "base_uri": "https://localhost:8080/"
        },
        "id": "CHg3bKcVRZtr",
        "outputId": "2ee41031-6748-4e54-849e-5d3e62c37588"
      },
      "source": [
        "print(\"Sawadee Python\") #this is how you comment"
      ],
      "execution_count": null,
      "outputs": [
        {
          "output_type": "stream",
          "text": [
            "Sawadee Python\n"
          ],
          "name": "stdout"
        }
      ]
    },
    {
      "cell_type": "markdown",
      "metadata": {
        "id": "oRAhq_xwRuU8"
      },
      "source": [
        "### ความคิดเห็นไม่จำเป็นต้องเป็นข้อความที่อธิบายโค้ด แต่สามารถใช้เพื่อป้องกัน Python ไม่ให้รันโค้ดได้:"
      ]
    },
    {
      "cell_type": "code",
      "metadata": {
        "colab": {
          "base_uri": "https://localhost:8080/"
        },
        "id": "4nBj84P-R2tV",
        "outputId": "7996a605-7ad7-426b-d859-664d27fdd5b6"
      },
      "source": [
        "print(\"Python dee mark mark\")\n",
        "#print(\"Sawadee Python\")"
      ],
      "execution_count": null,
      "outputs": [
        {
          "output_type": "stream",
          "text": [
            "Python dee mark mark\n"
          ],
          "name": "stdout"
        }
      ]
    },
    {
      "cell_type": "markdown",
      "metadata": {
        "id": "AK0vUdd9SYUk"
      },
      "source": [
        "### **Multi line comment**"
      ]
    },
    {
      "cell_type": "markdown",
      "metadata": {
        "id": "3jnQXypkSOyU"
      },
      "source": [
        "### เนื่องจาก Python จะละเว้นตัวอักษรสตริงที่ไม่ได้กำหนดให้กับตัวแปร คุณสามารถเพิ่มสตริงหลายบรรทัด (เครื่องหมายคำพูดสามอัน) ในโค้ดของคุณ และใส่ความคิดเห็นของคุณไว้ข้างใน:"
      ]
    },
    {
      "cell_type": "code",
      "metadata": {
        "colab": {
          "base_uri": "https://localhost:8080/"
        },
        "id": "2FsVD9J6SvO1",
        "outputId": "c84e5c26-0382-4b21-99f6-e54d17c26921"
      },
      "source": [
        "\"\"\"\n",
        "this \n",
        "is\n",
        "multi-line\n",
        "comment\n",
        "\"\"\"\n",
        "print(\"Python is better.\")"
      ],
      "execution_count": null,
      "outputs": [
        {
          "output_type": "stream",
          "text": [
            "Python is better.\n"
          ],
          "name": "stdout"
        }
      ]
    },
    {
      "cell_type": "markdown",
      "metadata": {
        "id": "CeLUoAV1TAnN"
      },
      "source": [
        "### ตราบใดที่สตริงไม่ได้ถูกกำหนดให้กับตัวแปร Python จะอ่านโค้ด แต่จากนั้นก็เพิกเฉย และคุณได้แสดงความคิดเห็นแบบหลายบรรทัด"
      ]
    },
    {
      "cell_type": "markdown",
      "metadata": {
        "id": "dNTbrvfWUha5"
      },
      "source": [
        ""
      ]
    },
    {
      "cell_type": "markdown",
      "metadata": {
        "id": "h8h0jadOUhZN"
      },
      "source": [
        ""
      ]
    }
  ]
}